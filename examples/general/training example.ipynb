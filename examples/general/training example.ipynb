{
 "cells": [
  {
   "cell_type": "code",
   "execution_count": 9,
   "id": "fc8fb9bd-a0fc-4820-99e4-9e59aa06ef4b",
   "metadata": {},
   "outputs": [],
   "source": [
    "from D4CMPP import train # if you are working with source code, place these files on the out of D4CMPP package"
   ]
  },
  {
   "cell_type": "code",
   "execution_count": null,
   "id": "d7d1cfd8-40d4-4b35-90db-91de907e3bbb",
   "metadata": {},
   "outputs": [],
   "source": [
    "# Start to train with the sample dataset presented by D4CMPP package\n",
    "# You can find the result in the _Molels directory.\n",
    "train(network=\"GCN\", data=\"test\", target=[\"Abs\"]) # note that \"test\" indicates the inherent dataset of D4CMPP package"
   ]
  },
  {
   "cell_type": "code",
   "execution_count": null,
   "id": "4c8e2c0f-945e-474c-bbfc-7ea44a858a36",
   "metadata": {},
   "outputs": [],
   "source": [
    "# You can use external dataset by referencing its file name.\n",
    "train(network=\"GCN\", data=\"general_test\", target=[\"Abs\"]) # note that \"general_test\" indicates the csv file in assets/external_data/general_test.csv"
   ]
  },
  {
   "cell_type": "code",
   "execution_count": null,
   "id": "aebb3e86-e5ca-427d-92cb-d8ca31eb0a36",
   "metadata": {},
   "outputs": [],
   "source": [
    "# You can declare additional arguments.\n",
    "train(\n",
    "    network=\"GCN\", data=\"test\", target=['Abs'],\n",
    "\n",
    "    # There are additional arguments for training. Check its document\n",
    "    scaler=\"minmax\", \n",
    "    optimizer=\"RMSprop\",\n",
    "    max_epoch=5000,\n",
    "    batch_size=256,\n",
    "    \n",
    "    # There are some hyperparameters for network, but this will varied by types of networks\n",
    "    hidden_dim= 128,\n",
    "    conv_layer= 4,\n",
    ")"
   ]
  },
  {
   "cell_type": "code",
   "execution_count": null,
   "id": "8eced31c-2b48-4082-8769-1c35ba4d71f5",
   "metadata": {},
   "outputs": [],
   "source": [
    "# Transfer learning can be simply done by assigning the path of pretrained model as \"TRANSFER_PATH\"\n",
    "train(\n",
    "    TRANSFER_PATH = \"assets/models/GCN_model_Aqsoldb_Solubility_20240101_000000\",\n",
    "    data = \"test\", target=[\"Abs\"]\n",
    ")"
   ]
  },
  {
   "cell_type": "code",
   "execution_count": null,
   "id": "8e71c0fd-238f-4e4f-88f2-60c70f111fdc",
   "metadata": {},
   "outputs": [],
   "source": [
    "# You can assign the paths for the cache files and result folders.\n",
    "train(\n",
    "    network=\"GCN\", data=\"test\", target=['Abs'],\n",
    "\n",
    "    # This will assign the path for graph cache files\n",
    "    GRAPH_DIR=\"./assets/graphs\",\n",
    "\n",
    "    # This will assign the path for results\n",
    "    MODEL_DIR=\"./assets/models\"    \n",
    ")"
   ]
  },
  {
   "cell_type": "code",
   "execution_count": null,
   "id": "7e963c20-eaf2-4742-93ca-568764ae44ec",
   "metadata": {},
   "outputs": [],
   "source": [
    "# You can import your costomized network \n",
    "train(\n",
    "    # First, write network_refer.yaml for customized network\n",
    "    network=\"CustomGCN\", data=\"test\", target=['Abs'],\n",
    "\n",
    "    # Specify the network_refer.yaml file where the configuration for the customized network is defined\n",
    "    NET_REFER=\"./assets/network_refer.yaml\",\n",
    "\n",
    "    # Specify the directory path for network source codes\n",
    "    NET_DIR=\"./assets/custom_network/\"\n",
    ")"
   ]
  }
 ],
 "metadata": {
  "kernelspec": {
   "display_name": "D4CMPP3",
   "language": "python",
   "name": "d4cmpp3"
  },
  "language_info": {
   "codemirror_mode": {
    "name": "ipython",
    "version": 3
   },
   "file_extension": ".py",
   "mimetype": "text/x-python",
   "name": "python",
   "nbconvert_exporter": "python",
   "pygments_lexer": "ipython3",
   "version": "3.10.14"
  }
 },
 "nbformat": 4,
 "nbformat_minor": 5
}
