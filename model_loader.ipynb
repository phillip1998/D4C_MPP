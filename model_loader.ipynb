{
 "cells": [
  {
   "cell_type": "code",
   "execution_count": null,
   "id": "98430a82-2c8f-4a16-aaf8-5a3c1983a631",
   "metadata": {},
   "outputs": [],
   "source": [
    "from src.utils.tools import loader_ui\n",
    "from src.analyzer import Analyzer"
   ]
  },
  {
   "cell_type": "code",
   "execution_count": null,
   "id": "847ef652-7208-4f2e-be33-61d82fc98878",
   "metadata": {},
   "outputs": [],
   "source": [
    "tunnel={}\n",
    "loader_ui(tunnel)"
   ]
  },
  {
   "cell_type": "code",
   "execution_count": null,
   "id": "ae59541e-c112-4e4f-b292-d5926383ec7c",
   "metadata": {},
   "outputs": [],
   "source": [
    "a=Analyzer('_Models/'+tunnel['current_path'])"
   ]
  },
  {
   "cell_type": "code",
   "execution_count": null,
   "id": "3896c906-be41-46e0-aaf0-9a6fb41da6cd",
   "metadata": {},
   "outputs": [],
   "source": [
    "print(\"Prediction:\" + str(a.predict('CCCCCCCCCC(O)=O')))\n",
    "print(a.plot_score('CCCCCCCCCC(O)=O',locate='bottom',only_total=True,rot=160))"
   ]
  }
 ],
 "metadata": {
  "kernelspec": {
   "display_name": "torch2",
   "language": "python",
   "name": "torch2"
  },
  "language_info": {
   "codemirror_mode": {
    "name": "ipython",
    "version": 3
   },
   "file_extension": ".py",
   "mimetype": "text/x-python",
   "name": "python",
   "nbconvert_exporter": "python",
   "pygments_lexer": "ipython3",
   "version": "3.11.5"
  }
 },
 "nbformat": 4,
 "nbformat_minor": 5
}
