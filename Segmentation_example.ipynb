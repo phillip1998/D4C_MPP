{
 "cells": [
  {
   "cell_type": "code",
   "execution_count": null,
   "id": "389558bb-78f6-4292-ad71-062a3af4dd64",
   "metadata": {},
   "outputs": [],
   "source": [
    "from src.utils.sculptor import SubgroupSplitter"
   ]
  },
  {
   "cell_type": "code",
   "execution_count": null,
   "id": "263f62f8-fc8c-44b0-8bf6-94b9deeddc9c",
   "metadata": {},
   "outputs": [],
   "source": [
    "ss = SubgroupSplitter(\"src/functional_group.csv\")"
   ]
  },
  {
   "cell_type": "code",
   "execution_count": null,
   "id": "04366013-6ec8-4259-a557-86b81ce8397a",
   "metadata": {},
   "outputs": [],
   "source": [
    "ss.fragmentation_with_condition(\"OC(=O)c1ccc(CCO)cc1\",\n",
    "                                split_order=6,\n",
    "                                combine_rest_order=1,\n",
    "                                absorb_neighbor_order=0,\n",
    "                                draw=True)"
   ]
  },
  {
   "cell_type": "code",
   "execution_count": null,
   "id": "7f25c926-d523-45a1-8c6c-1ac03951b6de",
   "metadata": {},
   "outputs": [],
   "source": [
    "ss.fragmentation_with_condition(\"OC(=O)c1ccc(CCO)cc1\",\n",
    "                                split_order=6,\n",
    "                                combine_rest_order=4,\n",
    "                                absorb_neighbor_order=0,\n",
    "                                draw=True)"
   ]
  },
  {
   "cell_type": "code",
   "execution_count": null,
   "id": "81a6fc02-32ea-4b08-b55e-d291e5429740",
   "metadata": {},
   "outputs": [],
   "source": [
    "ss.fragmentation_with_condition(r\"COC1=CC=C(C=C1)C1=C2\\C=CC(=N2)\\C(=C2/N\\C(\\C=C2)=C(/C2=N/C(/C=C2)=C(\\C2=CC=C\\1N2)C1=CC=C(OC)C=C1)C1=CC=C(OC)C=C1)\\C1=CC=C(OC)C=C1\",\n",
    "                                split_order=6,\n",
    "                                combine_rest_order=4,\n",
    "                                absorb_neighbor_order=3,\n",
    "                                draw=True)"
   ]
  },
  {
   "cell_type": "code",
   "execution_count": null,
   "id": "473c8ff4-2af9-4b89-821d-5319b7da8b4b",
   "metadata": {},
   "outputs": [],
   "source": [
    "ss.fragmentation_with_condition(r\"COC1=CC=C(C=C1)C1=C2\\C=CC(=N2)\\C(=C2/N\\C(\\C=C2)=C(/C2=N/C(/C=C2)=C(\\C2=CC=C\\1N2)C1=CC=C(OC)C=C1)C1=CC=C(OC)C=C1)\\C1=CC=C(OC)C=C1\",\n",
    "                                split_order=9,\n",
    "                                combine_rest_order=4,\n",
    "                                absorb_neighbor_order=4,\n",
    "                                draw=True)"
   ]
  },
  {
   "cell_type": "code",
   "execution_count": null,
   "id": "1b5cca1c-bb05-409e-bd01-cf23c06bb5e1",
   "metadata": {},
   "outputs": [],
   "source": [
    "ss.fragmentation_with_condition(r\"COC1=CC=C(C=C1)C1=C2\\C=CC(=N2)\\C(=C2/N\\C(\\C=C2)=C(/C2=N/C(/C=C2)=C(\\C2=CC=C\\1N2)C1=CC=C(OC)C=C1)C1=CC=C(OC)C=C1)\\C1=CC=C(OC)C=C1\",\n",
    "                                split_order=9,\n",
    "                                combine_rest_order=4,\n",
    "                                absorb_neighbor_order=5,\n",
    "                                draw=True)"
   ]
  }
 ],
 "metadata": {
  "kernelspec": {
   "display_name": "torch2",
   "language": "python",
   "name": "torch2"
  },
  "language_info": {
   "codemirror_mode": {
    "name": "ipython",
    "version": 3
   },
   "file_extension": ".py",
   "mimetype": "text/x-python",
   "name": "python",
   "nbconvert_exporter": "python",
   "pygments_lexer": "ipython3",
   "version": "3.11.5"
  }
 },
 "nbformat": 4,
 "nbformat_minor": 5
}
