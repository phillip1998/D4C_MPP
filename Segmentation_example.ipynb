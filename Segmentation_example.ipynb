{
 "cells": [
  {
   "cell_type": "code",
   "execution_count": null,
   "id": "389558bb-78f6-4292-ad71-062a3af4dd64",
   "metadata": {},
   "outputs": [],
   "source": [
    "from src.utils.sculptor import SubgroupSplitter"
   ]
  },
  {
   "cell_type": "code",
   "execution_count": null,
   "id": "263f62f8-fc8c-44b0-8bf6-94b9deeddc9c",
   "metadata": {},
   "outputs": [],
   "source": [
    "ss = SubgroupSplitter(\"src/functional_group.csv\")"
   ]
  },
  {
   "cell_type": "code",
   "execution_count": null,
   "id": "04366013-6ec8-4259-a557-86b81ce8397a",
   "metadata": {},
   "outputs": [],
   "source": [
    "ss.fragmentation_with_condition(\"COC1=CC2=C(NC=C2CCCNC(C)=O)C=C1\",\n",
    "                                split_order=6,\n",
    "                                combine_rest_order=1,\n",
    "                                absorb_neighbor_order=0,\n",
    "                                draw=True)"
   ]
  },
  {
   "cell_type": "code",
   "execution_count": null,
   "id": "7f25c926-d523-45a1-8c6c-1ac03951b6de",
   "metadata": {},
   "outputs": [],
   "source": [
    "ss.fragmentation_with_condition(\"COC1=CC2=C(NC=C2CCCNC(C)=O)C=C1\",\n",
    "                                split_order=6,\n",
    "                                combine_rest_order=2,\n",
    "                                absorb_neighbor_order=1,\n",
    "                                draw=True)"
   ]
  },
  {
   "cell_type": "code",
   "execution_count": null,
   "id": "6255cea8-05cc-48e8-a878-fe561cb40290",
   "metadata": {},
   "outputs": [],
   "source": [
    "ss.fragmentation_with_condition(\"COC1=CC2=C(NC=C2CCCNC(C)=O)C=C1\",\n",
    "                                split_order=6,\n",
    "                                combine_rest_order=4,\n",
    "                                absorb_neighbor_order=4,\n",
    "                                draw=True)"
   ]
  },
  {
   "cell_type": "code",
   "execution_count": null,
   "id": "355fb686-bfeb-4acc-8df9-3e5b3a57ebfc",
   "metadata": {},
   "outputs": [],
   "source": [
    "ss.fragmentation_with_condition(r\"OC(=O)C1=CC=C(C=C1)C1=C2\\C=CC(=N2)\\C(=C2/N\\C(\\C=C2)=C(/C2=N/C(/C=C2)=C(\\C2=CC=C\\1N2)C1=CC=C(C=C1)C(O)=O)C1=CC=C(C=C1)C(O)=O)\\C1=CC=C(C=C1)C(O)=O\",\n",
    "                                split_order=4,\n",
    "                                combine_rest_order=0,\n",
    "                                absorb_neighbor_order=0,\n",
    "                                draw=True,\n",
    "                                atom_with_index=False)"
   ]
  },
  {
   "cell_type": "code",
   "execution_count": null,
   "id": "81a6fc02-32ea-4b08-b55e-d291e5429740",
   "metadata": {},
   "outputs": [],
   "source": [
    "ss.fragmentation_with_condition(r\"OC(=O)C1=CC=C(C=C1)C1=C2\\C=CC(=N2)\\C(=C2/N\\C(\\C=C2)=C(/C2=N/C(/C=C2)=C(\\C2=CC=C\\1N2)C1=CC=C(C=C1)C(O)=O)C1=CC=C(C=C1)C(O)=O)\\C1=CC=C(C=C1)C(O)=O\",\n",
    "                                split_order=6,\n",
    "                                combine_rest_order=2,\n",
    "                                absorb_neighbor_order=0,\n",
    "                                draw=True,\n",
    "                                atom_with_index=False)"
   ]
  },
  {
   "cell_type": "code",
   "execution_count": null,
   "id": "473c8ff4-2af9-4b89-821d-5319b7da8b4b",
   "metadata": {},
   "outputs": [],
   "source": [
    "ss.fragmentation_with_condition(r\"OC(=O)C1=CC=C(C=C1)C1=C2\\C=CC(=N2)\\C(=C2/N\\C(\\C=C2)=C(/C2=N/C(/C=C2)=C(\\C2=CC=C\\1N2)C1=CC=C(C=C1)C(O)=O)C1=CC=C(C=C1)C(O)=O)\\C1=CC=C(C=C1)C(O)=O\",                                \n",
    "                                split_order=9,\n",
    "                                combine_rest_order=5,\n",
    "                                absorb_neighbor_order=6,\n",
    "                                draw=True)"
   ]
  },
  {
   "cell_type": "code",
   "execution_count": null,
   "id": "037c7569-b016-4cf3-8ac4-85d7d2a92281",
   "metadata": {},
   "outputs": [],
   "source": [
    "ss.fragmentation_with_condition(r\"N#Cc1ccc(C#N)c2nc(-c3ccc(cc3)N(c3ccccc3)c3ccccc3)c(nc12)-c1ccc(cc1)N(c1ccccc1)c1ccccc1\",                                \n",
    "                                split_order=6,\n",
    "                                combine_rest_order=0,\n",
    "                                absorb_neighbor_order=0,\n",
    "                                overlapped_ring_combine=False,\n",
    "                                draw=True)"
   ]
  },
  {
   "cell_type": "code",
   "execution_count": null,
   "id": "424662d5-310c-480d-928b-eb1c60ab7e37",
   "metadata": {},
   "outputs": [],
   "source": [
    "ss.fragmentation_with_condition(r\"N#Cc1ccc(C#N)c2nc(-c3ccc(cc3)N(c3ccccc3)c3ccccc3)c(nc12)-c1ccc(cc1)N(c1ccccc1)c1ccccc1\",                                \n",
    "                                split_order=9,\n",
    "                                combine_rest_order=0,\n",
    "                                absorb_neighbor_order=0,\n",
    "                                overlapped_ring_combine=False,\n",
    "                                draw=True)"
   ]
  },
  {
   "cell_type": "code",
   "execution_count": null,
   "id": "fe9e3875-0d06-428c-8658-84f7109c363b",
   "metadata": {},
   "outputs": [],
   "source": [
    "ss.fragmentation_with_condition(r\"COC1=CC=C(CN2C3=CC=C(C=C3C(C)(C)\\C2=C/C=C2\\CCCC(\\C=C\\C3=[N+](CC4=CC=C(OC)C=C4)C4=CC=C(C=C4C3(C)C)S(O)(=O)=O)=C2C#N)S(O)(=O)=O)C=C1\",                                \n",
    "                                split_order=6,\n",
    "                                combine_rest_order=1,\n",
    "                                absorb_neighbor_order=0,\n",
    "                                draw=True,\n",
    "                               overlapped_ring_combine=False)"
   ]
  },
  {
   "cell_type": "code",
   "execution_count": null,
   "id": "d1e25535-4a35-4d74-acfe-aa47d8c1e75e",
   "metadata": {},
   "outputs": [],
   "source": [
    "ss.fragmentation_with_condition(r\"COC1=CC=C(CN2C3=CC=C(C=C3C(C)(C)\\C2=C/C=C2\\CCCC(\\C=C\\C3=[N+](CC4=CC=C(OC)C=C4)C4=CC=C(C=C4C3(C)C)S(O)(=O)=O)=C2C#N)S(O)(=O)=O)C=C1\",                                \n",
    "                                split_order=9,\n",
    "                                combine_rest_order=1,\n",
    "                                absorb_neighbor_order=0,\n",
    "                                draw=True,\n",
    "                               overlapped_ring_combine=False)"
   ]
  },
  {
   "cell_type": "code",
   "execution_count": null,
   "id": "6384273a-8e87-482c-8941-862b63803c6a",
   "metadata": {},
   "outputs": [],
   "source": [
    "ss.fragmentation_with_condition(r\"COC1=CC=C(CN2C3=CC=C(C=C3C(C)(C)\\C2=C/C=C2\\CCCC(\\C=C\\C3=[N+](CC4=CC=C(OC)C=C4)C4=CC=C(C=C4C3(C)C)S(O)(=O)=O)=C2C#N)S(O)(=O)=O)C=C1\",                                \n",
    "                                split_order=9,\n",
    "                                combine_rest_order=5,\n",
    "                                absorb_neighbor_order=6,\n",
    "                                draw=True,\n",
    "                                overlapped_ring_combine=False)"
   ]
  }
 ],
 "metadata": {
  "kernelspec": {
   "display_name": "torch2",
   "language": "python",
   "name": "torch2"
  },
  "language_info": {
   "codemirror_mode": {
    "name": "ipython",
    "version": 3
   },
   "file_extension": ".py",
   "mimetype": "text/x-python",
   "name": "python",
   "nbconvert_exporter": "python",
   "pygments_lexer": "ipython3",
   "version": "3.11.5"
  }
 },
 "nbformat": 4,
 "nbformat_minor": 5
}
